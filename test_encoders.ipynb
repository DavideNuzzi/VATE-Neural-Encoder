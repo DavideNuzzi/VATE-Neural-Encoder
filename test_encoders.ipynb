{
 "cells": [
  {
   "cell_type": "code",
   "execution_count": 37,
   "id": "9869af9e",
   "metadata": {},
   "outputs": [
    {
     "name": "stderr",
     "output_type": "stream",
     "text": [
      "[autoreload of models.layers failed: Traceback (most recent call last):\n",
      "  File \"/home/nuzzi/Projects/NeuralEncoder_V2/.venv/lib/python3.10/site-packages/IPython/extensions/autoreload.py\", line 276, in check\n",
      "    superreload(m, reload, self.old_objects)\n",
      "  File \"/home/nuzzi/Projects/NeuralEncoder_V2/.venv/lib/python3.10/site-packages/IPython/extensions/autoreload.py\", line 500, in superreload\n",
      "    update_generic(old_obj, new_obj)\n",
      "  File \"/home/nuzzi/Projects/NeuralEncoder_V2/.venv/lib/python3.10/site-packages/IPython/extensions/autoreload.py\", line 397, in update_generic\n",
      "    update(a, b)\n",
      "  File \"/home/nuzzi/Projects/NeuralEncoder_V2/.venv/lib/python3.10/site-packages/IPython/extensions/autoreload.py\", line 349, in update_class\n",
      "    if update_generic(old_obj, new_obj):\n",
      "  File \"/home/nuzzi/Projects/NeuralEncoder_V2/.venv/lib/python3.10/site-packages/IPython/extensions/autoreload.py\", line 397, in update_generic\n",
      "    update(a, b)\n",
      "  File \"/home/nuzzi/Projects/NeuralEncoder_V2/.venv/lib/python3.10/site-packages/IPython/extensions/autoreload.py\", line 349, in update_class\n",
      "    if update_generic(old_obj, new_obj):\n",
      "  File \"/home/nuzzi/Projects/NeuralEncoder_V2/.venv/lib/python3.10/site-packages/IPython/extensions/autoreload.py\", line 397, in update_generic\n",
      "    update(a, b)\n",
      "  File \"/home/nuzzi/Projects/NeuralEncoder_V2/.venv/lib/python3.10/site-packages/IPython/extensions/autoreload.py\", line 349, in update_class\n",
      "    if update_generic(old_obj, new_obj):\n",
      "  File \"/home/nuzzi/Projects/NeuralEncoder_V2/.venv/lib/python3.10/site-packages/IPython/extensions/autoreload.py\", line 397, in update_generic\n",
      "    update(a, b)\n",
      "  File \"/home/nuzzi/Projects/NeuralEncoder_V2/.venv/lib/python3.10/site-packages/IPython/extensions/autoreload.py\", line 349, in update_class\n",
      "    if update_generic(old_obj, new_obj):\n",
      "RecursionError: maximum recursion depth exceeded\n",
      "]\n",
      "[autoreload of models.layers failed: Traceback (most recent call last):\n",
      "  File \"/home/nuzzi/Projects/NeuralEncoder_V2/.venv/lib/python3.10/site-packages/IPython/extensions/autoreload.py\", line 276, in check\n",
      "    superreload(m, reload, self.old_objects)\n",
      "  File \"/home/nuzzi/Projects/NeuralEncoder_V2/.venv/lib/python3.10/site-packages/IPython/extensions/autoreload.py\", line 500, in superreload\n",
      "    update_generic(old_obj, new_obj)\n",
      "  File \"/home/nuzzi/Projects/NeuralEncoder_V2/.venv/lib/python3.10/site-packages/IPython/extensions/autoreload.py\", line 397, in update_generic\n",
      "    update(a, b)\n",
      "  File \"/home/nuzzi/Projects/NeuralEncoder_V2/.venv/lib/python3.10/site-packages/IPython/extensions/autoreload.py\", line 349, in update_class\n",
      "    if update_generic(old_obj, new_obj):\n",
      "  File \"/home/nuzzi/Projects/NeuralEncoder_V2/.venv/lib/python3.10/site-packages/IPython/extensions/autoreload.py\", line 397, in update_generic\n",
      "    update(a, b)\n",
      "  File \"/home/nuzzi/Projects/NeuralEncoder_V2/.venv/lib/python3.10/site-packages/IPython/extensions/autoreload.py\", line 349, in update_class\n",
      "    if update_generic(old_obj, new_obj):\n",
      "  File \"/home/nuzzi/Projects/NeuralEncoder_V2/.venv/lib/python3.10/site-packages/IPython/extensions/autoreload.py\", line 397, in update_generic\n",
      "    update(a, b)\n",
      "  File \"/home/nuzzi/Projects/NeuralEncoder_V2/.venv/lib/python3.10/site-packages/IPython/extensions/autoreload.py\", line 349, in update_class\n",
      "    if update_generic(old_obj, new_obj):\n",
      "  File \"/home/nuzzi/Projects/NeuralEncoder_V2/.venv/lib/python3.10/site-packages/IPython/extensions/autoreload.py\", line 397, in update_generic\n",
      "    update(a, b)\n",
      "  File \"/home/nuzzi/Projects/NeuralEncoder_V2/.venv/lib/python3.10/site-packages/IPython/extensions/autoreload.py\", line 349, in update_class\n",
      "    if update_generic(old_obj, new_obj):\n",
      "RecursionError: maximum recursion depth exceeded\n",
      "]\n"
     ]
    }
   ],
   "source": [
    "%reload_ext autoreload\n",
    "%autoreload 2\n",
    "\n",
    "import torch\n",
    "import numpy as np\n",
    "from torch import nn\n",
    "from matplotlib import pyplot as plt\n",
    "from models.layers import GaussianLayer\n",
    "from models.layers import FactorizedEncoder, RecurrentFactorizedEncoder, AutoregressiveEncoder, PriorControlledEncoder\n",
    "from models.layers import Transition, RecurrentDiscreteDecoder\n",
    "from models.vate import VATE"
   ]
  },
  {
   "cell_type": "code",
   "execution_count": 38,
   "id": "698420a2",
   "metadata": {},
   "outputs": [],
   "source": [
    "window_len = 50\n",
    "feature_dim = 32\n",
    "latent_dim = 3\n",
    "num_classes = 8\n",
    "\n",
    "x = torch.zeros((window_len, feature_dim))\n",
    "y = torch.zeros((window_len, 1), dtype=torch.int32)\n"
   ]
  },
  {
   "cell_type": "code",
   "execution_count": 39,
   "id": "ff3560a7",
   "metadata": {},
   "outputs": [
    {
     "name": "stdout",
     "output_type": "stream",
     "text": [
      "torch.Size([1, 50, 3]) torch.Size([1, 50, 3]) torch.Size([1, 50, 3])\n"
     ]
    }
   ],
   "source": [
    "encoder = FactorizedEncoder(\n",
    "    body_module=nn.Sequential(\n",
    "        nn.LazyLinear(32), nn.GELU(),\n",
    "        nn.LazyLinear(32), nn.GELU(),\n",
    "    ),\n",
    "    gaussian_module=GaussianLayer(output_dim=latent_dim)\n",
    "    )\n",
    "\n",
    "z, mu, logvar = encoder.forward(x)\n",
    "\n",
    "print(z.shape, mu.shape, logvar.shape)"
   ]
  },
  {
   "cell_type": "code",
   "execution_count": 40,
   "id": "62cfda2a",
   "metadata": {},
   "outputs": [
    {
     "name": "stdout",
     "output_type": "stream",
     "text": [
      "torch.Size([1, 50, 3]) torch.Size([1, 50, 3]) torch.Size([1, 50, 3])\n"
     ]
    }
   ],
   "source": [
    "encoder = RecurrentFactorizedEncoder(\n",
    "    recurrent_module=nn.LSTM(input_size=feature_dim, hidden_size=32, num_layers=1, batch_first=True, bidirectional=False),\n",
    "    body_module=nn.Sequential(\n",
    "        nn.LazyLinear(32), nn.GELU(),\n",
    "        nn.LazyLinear(32), nn.GELU(),\n",
    "    ),   \n",
    "    gaussian_module=GaussianLayer(output_dim=latent_dim)\n",
    "    )\n",
    "\n",
    "z, mu, logvar = encoder.forward(x)\n",
    "\n",
    "print(z.shape, mu.shape, logvar.shape)"
   ]
  },
  {
   "cell_type": "code",
   "execution_count": 41,
   "id": "e149db1c",
   "metadata": {},
   "outputs": [
    {
     "name": "stdout",
     "output_type": "stream",
     "text": [
      "torch.Size([1, 50, 3]) torch.Size([1, 50, 3]) torch.Size([1, 50, 3])\n"
     ]
    }
   ],
   "source": [
    "encoder = AutoregressiveEncoder(\n",
    "    recurrent_module=nn.LSTM(input_size=feature_dim, hidden_size=32, num_layers=1, batch_first=True, bidirectional=False),\n",
    "    body_module=nn.Sequential(\n",
    "        nn.LazyLinear(32), nn.GELU(),\n",
    "        nn.LazyLinear(32), nn.GELU(),\n",
    "    ),   \n",
    "    gaussian_module=GaussianLayer(output_dim=latent_dim)\n",
    "    )\n",
    "\n",
    "z, mu, logvar = encoder.forward(x)\n",
    "\n",
    "print(z.shape, mu.shape, logvar.shape)"
   ]
  },
  {
   "cell_type": "code",
   "execution_count": 42,
   "id": "464d0a08",
   "metadata": {},
   "outputs": [
    {
     "name": "stdout",
     "output_type": "stream",
     "text": [
      "torch.Size([1, 50, 3]) torch.Size([1, 50, 3]) torch.Size([1, 50, 3])\n"
     ]
    }
   ],
   "source": [
    "encoder = AutoregressiveEncoder(\n",
    "    recurrent_module=nn.LSTM(input_size=feature_dim, hidden_size=32, num_layers=1, batch_first=True, bidirectional=False),\n",
    "    body_module=nn.Sequential(\n",
    "        nn.LazyLinear(32), nn.GELU(),\n",
    "        nn.LazyLinear(32), nn.GELU(),\n",
    "    ),   \n",
    "    gaussian_module=GaussianLayer(output_dim=latent_dim),\n",
    "    residual_mode='simple'\n",
    "    )\n",
    "\n",
    "z, mu, logvar = encoder.forward(x)\n",
    "\n",
    "print(z.shape, mu.shape, logvar.shape)"
   ]
  },
  {
   "cell_type": "code",
   "execution_count": 43,
   "id": "bb1d3253",
   "metadata": {},
   "outputs": [
    {
     "name": "stdout",
     "output_type": "stream",
     "text": [
      "torch.Size([1, 50, 3]) torch.Size([1, 50, 3]) torch.Size([1, 50, 3])\n"
     ]
    }
   ],
   "source": [
    "encoder = AutoregressiveEncoder(\n",
    "    recurrent_module=nn.LSTM(input_size=feature_dim, hidden_size=32, num_layers=1, batch_first=True, bidirectional=False),\n",
    "    body_module=nn.Sequential(\n",
    "        nn.LazyLinear(32), nn.GELU(),\n",
    "        nn.LazyLinear(32), nn.GELU(),\n",
    "    ),   \n",
    "    gaussian_module=GaussianLayer(output_dim=latent_dim),\n",
    "    residual_mode='bounded'\n",
    "    )\n",
    "\n",
    "z, mu, logvar = encoder.forward(x)\n",
    "\n",
    "print(z.shape, mu.shape, logvar.shape)"
   ]
  },
  {
   "cell_type": "code",
   "execution_count": 44,
   "id": "0a24e134",
   "metadata": {},
   "outputs": [
    {
     "name": "stdout",
     "output_type": "stream",
     "text": [
      "torch.Size([1, 50, 3]) torch.Size([1, 50, 3]) torch.Size([1, 50, 3])\n"
     ]
    }
   ],
   "source": [
    "transition = Transition(\n",
    "    body_module=nn.Sequential(\n",
    "        nn.LazyLinear(32), nn.GELU(),\n",
    "        nn.LazyLinear(32), nn.GELU(),\n",
    "    ),   \n",
    "    gaussian_module=GaussianLayer(output_dim=latent_dim),\n",
    "    residual_mode='bounded'\n",
    "    )\n",
    "\n",
    "z_next, mu_next, logvar_next = transition.forward(z)\n",
    "\n",
    "print(z_next.shape, mu_next.shape, logvar_next.shape)"
   ]
  },
  {
   "cell_type": "code",
   "execution_count": 45,
   "id": "bc407e10",
   "metadata": {},
   "outputs": [
    {
     "name": "stdout",
     "output_type": "stream",
     "text": [
      "torch.Size([1, 50, 3]) torch.Size([1, 50, 3]) torch.Size([1, 50, 3])\n"
     ]
    }
   ],
   "source": [
    "encoder = PriorControlledEncoder(\n",
    "    recurrent_module=nn.LSTM(input_size=feature_dim, hidden_size=32, num_layers=1, batch_first=True, bidirectional=False),\n",
    "    body_module=nn.Sequential(\n",
    "        nn.LazyLinear(32), nn.GELU(),\n",
    "        nn.LazyLinear(32), nn.GELU(),\n",
    "    ),   \n",
    "    transition_module=transition,\n",
    "    gaussian_module=GaussianLayer(output_dim=latent_dim),\n",
    "    )\n",
    "\n",
    "z, mu, logvar = encoder.forward(x)\n",
    "\n",
    "print(z.shape, mu.shape, logvar.shape)"
   ]
  },
  {
   "cell_type": "code",
   "execution_count": 46,
   "id": "dee9db72",
   "metadata": {},
   "outputs": [
    {
     "name": "stdout",
     "output_type": "stream",
     "text": [
      "torch.Size([1, 50, 8])\n"
     ]
    }
   ],
   "source": [
    "decoder = RecurrentDiscreteDecoder(\n",
    "    recurrent_module=nn.LSTM(input_size=latent_dim, hidden_size=32, num_layers=1, batch_first=True, bidirectional=False),\n",
    "    body_module=nn.Sequential(\n",
    "        nn.LazyLinear(32), nn.GELU(),\n",
    "        nn.LazyLinear(32), nn.GELU(),\n",
    "    ),   \n",
    "    num_classes=8\n",
    ")\n",
    "\n",
    "y_pred = decoder.forward(z)\n",
    "print(y_pred.shape)"
   ]
  },
  {
   "cell_type": "code",
   "execution_count": 61,
   "id": "88b0ff1d",
   "metadata": {},
   "outputs": [
    {
     "name": "stdout",
     "output_type": "stream",
     "text": [
      "Module         Parameters     \n",
      "------------------------------\n",
      "Encoder        12237          \n",
      "Transition     1383           \n",
      "Decoders       \n",
      "-test          7112           \n",
      "------------------------------\n",
      "Total          20732          \n"
     ]
    }
   ],
   "source": [
    "model = VATE(encoder=encoder, transition=transition,\n",
    "             target_decoders={'test': decoder})\n",
    "\n",
    "model.summary(input_features=32)\n",
    "\n",
    "forward_out = model.forward(x)\n",
    "log_prob_out = model.get_log_probs(forward_out, y)\n"
   ]
  }
 ],
 "metadata": {
  "kernelspec": {
   "display_name": ".venv",
   "language": "python",
   "name": "python3"
  },
  "language_info": {
   "codemirror_mode": {
    "name": "ipython",
    "version": 3
   },
   "file_extension": ".py",
   "mimetype": "text/x-python",
   "name": "python",
   "nbconvert_exporter": "python",
   "pygments_lexer": "ipython3",
   "version": "3.10.12"
  }
 },
 "nbformat": 4,
 "nbformat_minor": 5
}
